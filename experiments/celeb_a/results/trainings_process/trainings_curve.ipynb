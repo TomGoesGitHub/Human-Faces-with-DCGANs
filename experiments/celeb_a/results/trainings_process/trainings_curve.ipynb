{
 "cells": [
  {
   "cell_type": "code",
   "execution_count": null,
   "metadata": {},
   "outputs": [],
   "source": [
    "with open() as infile:\n",
    "    content = infile.read()\n",
    "\n",
    "print(content)"
   ]
  }
 ],
 "metadata": {
  "language_info": {
   "name": "python"
  }
 },
 "nbformat": 4,
 "nbformat_minor": 2
}
