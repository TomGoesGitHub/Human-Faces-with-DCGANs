{
 "cells": [
  {
   "cell_type": "code",
   "execution_count": null,
   "metadata": {},
   "outputs": [],
   "source": [
    "from google.colab import drive\n",
    "drive.mount('/content/gdrive')\n",
    "import sys\n",
    "sys.path.append('/content/gdrive/MyDrive/PROJECTS/gan')"
   ]
  },
  {
   "cell_type": "code",
   "execution_count": null,
   "metadata": {},
   "outputs": [],
   "source": [
    "from experiments.pokemon.architecture import generator, discriminator\n",
    "from experiments.pokemon.training import run_training\n",
    "from gan import GenerativeAdversarialNetwork\n",
    "\n",
    "DATA_DIR = '/content/gdrive/MyDrive/DATASETS/pokemon/pokemon_jpg_64x64'\n",
    "RESULT_DIR = '/content/gdrive/MyDrive/PROJECTS/gan/experiments/pokemon/results'\n",
    "\n",
    "gan = GenerativeAdversarialNetwork(generator, discriminator,\n",
    "                            z_shape=generator.input_shape[1:],\n",
    "                            x_shape=discriminator.input_shape[1:])\n",
    "gan.summary()\n",
    "gan.compile()\n",
    "run_training(gan, DATA_DIR, RESULT_DIR)"
   ]
  }
 ],
 "metadata": {
  "language_info": {
   "name": "python"
  }
 },
 "nbformat": 4,
 "nbformat_minor": 2
}
