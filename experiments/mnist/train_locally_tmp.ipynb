{
 "cells": [
  {
   "cell_type": "code",
   "execution_count": null,
   "metadata": {},
   "outputs": [],
   "source": [
    "import tensorflow as tf\n",
    "(x_train, y_train), (x_test, y_test) = tf.keras.datasets.mnist.load_data()\n",
    "x_train = (x_train - (255/2)) / (255/2)"
   ]
  },
  {
   "cell_type": "code",
   "execution_count": null,
   "metadata": {},
   "outputs": [],
   "source": [
    "x_train = tf.reshape(x_train, [*x_train.shape, 1])"
   ]
  },
  {
   "cell_type": "code",
   "execution_count": null,
   "metadata": {},
   "outputs": [],
   "source": [
    "x_train.shape"
   ]
  },
  {
   "cell_type": "code",
   "execution_count": null,
   "metadata": {},
   "outputs": [],
   "source": [
    "# x_train = x_train[:1000]\n",
    "# y_train = y_train[:1000]"
   ]
  },
  {
   "cell_type": "code",
   "execution_count": null,
   "metadata": {},
   "outputs": [],
   "source": [
    "# from google.colab import drive\n",
    "# drive.mount('/content/gdrive')\n",
    "import sys\n",
    "import os\n",
    "sys.path.append(os.path.join(os.pardir, os.pardir))"
   ]
  },
  {
   "cell_type": "code",
   "execution_count": null,
   "metadata": {},
   "outputs": [],
   "source": [
    "from gan import GenerativeAdversarialNetwork\n",
    "from experiments.mnist.architecture import generator, discriminator\n",
    "from experiments.utils import VisualizeGeneratedFakesCallback\n",
    "\n",
    "generator.summary()\n",
    "discriminator.summary()\n",
    "z_shape = generator.input_shape[1:]\n",
    "x_shape = discriminator.input_shape[1:]\n",
    "\n",
    "print(x_shape)\n",
    "print(z_shape)\n",
    "\n",
    "model = GenerativeAdversarialNetwork(generator, discriminator, z_shape, x_shape, k=1,\n",
    "                                     label_smooting=(0, 0.9),\n",
    "                                     historical_averaging=True,\n",
    "                                     feature_matching_idx=6,\n",
    "                                     virtual_normalization_batch=x_train[:256])\n",
    "model.compile()\n",
    "\n",
    "# model.z_distribution.sample().shape\n",
    "\n",
    "callbacks = [VisualizeGeneratedFakesCallback(z_distribution=model.z_distribution)]\n",
    "model.fit(x=x_train, y=y_train, epochs=100, batch_size=256, callbacks=callbacks)"
   ]
  }
 ],
 "metadata": {
  "kernelspec": {
   "display_name": "VAE",
   "language": "python",
   "name": "python3"
  },
  "language_info": {
   "codemirror_mode": {
    "name": "ipython",
    "version": 3
   },
   "file_extension": ".py",
   "mimetype": "text/x-python",
   "name": "python",
   "nbconvert_exporter": "python",
   "pygments_lexer": "ipython3",
   "version": "3.9.15"
  }
 },
 "nbformat": 4,
 "nbformat_minor": 2
}
