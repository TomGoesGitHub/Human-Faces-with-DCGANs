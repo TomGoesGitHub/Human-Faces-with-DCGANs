{
 "cells": [
  {
   "cell_type": "code",
   "execution_count": null,
   "metadata": {},
   "outputs": [],
   "source": [
    "import tensorflow as tf\n",
    "(x_train, y_train), (x_test, y_test) = tf.keras.datasets.mnist.load_data()\n",
    "x_train = (x_train - (255/2)) / (255/2)"
   ]
  },
  {
   "cell_type": "code",
   "execution_count": null,
   "metadata": {},
   "outputs": [],
   "source": [
    "from google.colab import drive\n",
    "drive.mount('/content/gdrive')\n",
    "import sys\n",
    "sys.path.append('/content/gdrive/MyDrive/PROJECTS/gan')"
   ]
  },
  {
   "cell_type": "code",
   "execution_count": null,
   "metadata": {},
   "outputs": [],
   "source": [
    "from gan import GenerativeAdversarialNetwork\n",
    "from experiments.mnist.architecture import generator, discriminator\n",
    "from experiments.utils import VisualizeGeneratedFakesCallback\n",
    "\n",
    "generator.summary()\n",
    "discriminator.summary()\n",
    "z_shape = generator.input_shape[1:]\n",
    "x_shape = discriminator.input_shape[1:]\n",
    "\n",
    "print(x_shape)\n",
    "print(z_shape)\n",
    "\n",
    "model = GenerativeAdversarialNetwork(generator, discriminator, z_shape, x_shape, k=1)\n",
    "model.compile()\n",
    "\n",
    "# model.z_distribution.sample().shape\n",
    "\n",
    "callbacks = [VisualizeGeneratedFakesCallback(z_distribution=model.z_distribution)]\n",
    "model.fit(x=x_train, y=y_train, epochs=100, batch_size=256, callbacks=callbacks)"
   ]
  }
 ],
 "metadata": {
  "language_info": {
   "name": "python"
  }
 },
 "nbformat": 4,
 "nbformat_minor": 2
}
